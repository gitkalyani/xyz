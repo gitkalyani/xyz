{
 "cells": [
  {
   "cell_type": "markdown",
   "id": "34326f8e",
   "metadata": {},
   "source": [
    "# Title"
   ]
  },
  {
   "cell_type": "code",
   "execution_count": 1,
   "id": "a36279aa",
   "metadata": {},
   "outputs": [
    {
     "data": {
      "text/plain": [
       "5"
      ]
     },
     "execution_count": 1,
     "metadata": {},
     "output_type": "execute_result"
    }
   ],
   "source": [
    "2+3"
   ]
  },
  {
   "cell_type": "code",
   "execution_count": 2,
   "id": "5ede17b8",
   "metadata": {},
   "outputs": [
    {
     "data": {
      "text/plain": [
       "10"
      ]
     },
     "execution_count": 2,
     "metadata": {},
     "output_type": "execute_result"
    }
   ],
   "source": [
    "5+5"
   ]
  },
  {
   "cell_type": "code",
   "execution_count": 3,
   "id": "4ca32490",
   "metadata": {},
   "outputs": [
    {
     "data": {
      "text/plain": [
       "-4108"
      ]
     },
     "execution_count": 3,
     "metadata": {},
     "output_type": "execute_result"
    }
   ],
   "source": [
    "4567-8675"
   ]
  },
  {
   "cell_type": "markdown",
   "id": "9e649fd5",
   "metadata": {},
   "source": [
    "## Marklist"
   ]
  },
  {
   "cell_type": "markdown",
   "id": "a40742af",
   "metadata": {},
   "source": [
    "#### Title"
   ]
  },
  {
   "cell_type": "markdown",
   "id": "e4a2b513",
   "metadata": {},
   "source": [
    "###### title"
   ]
  },
  {
   "cell_type": "code",
   "execution_count": 4,
   "id": "1fa0c53e",
   "metadata": {},
   "outputs": [],
   "source": [
    "# title"
   ]
  },
  {
   "cell_type": "markdown",
   "id": "a76a0a5a",
   "metadata": {},
   "source": [
    "##### title"
   ]
  },
  {
   "cell_type": "markdown",
   "id": "cfeaf456",
   "metadata": {},
   "source": [
    "##### title"
   ]
  },
  {
   "cell_type": "code",
   "execution_count": null,
   "id": "f99cc2a5",
   "metadata": {},
   "outputs": [],
   "source": []
  }
 ],
 "metadata": {
  "kernelspec": {
   "display_name": "Python 3 (ipykernel)",
   "language": "python",
   "name": "python3"
  },
  "language_info": {
   "codemirror_mode": {
    "name": "ipython",
    "version": 3
   },
   "file_extension": ".py",
   "mimetype": "text/x-python",
   "name": "python",
   "nbconvert_exporter": "python",
   "pygments_lexer": "ipython3",
   "version": "3.9.12"
  }
 },
 "nbformat": 4,
 "nbformat_minor": 5
}
